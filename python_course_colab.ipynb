{
  "cells": [
    {
      "cell_type": "markdown",
      "metadata": {
        "id": "lifcSPM9jiiB"
      },
      "source": [
        "# 電力交易市場數據分析課程 2024/05/31"
      ]
    },
    {
      "cell_type": "code",
      "execution_count": null,
      "metadata": {
        "id": "oNVI03dQjiiE"
      },
      "outputs": [],
      "source": [
        "import pandas as pd\n",
        "import numpy as np"
      ]
    },
    {
      "cell_type": "markdown",
      "metadata": {
        "id": "87I5k6KyjiiF"
      },
      "source": [
        "## 電力週報案例一：市場價格趨勢"
      ]
    },
    {
      "cell_type": "code",
      "execution_count": null,
      "metadata": {
        "id": "R-sIKGSHjiiF"
      },
      "outputs": [],
      "source": [
        "# colab\n",
        "url = 'https://raw.githubusercontent.com/godspeed833/course_demo_files/master/vpp_tbl_etp_historical_settlement_trading_colab.csv'\n",
        "df_etp = pd.read_csv(url)"
      ]
    },
    {
      "cell_type": "code",
      "execution_count": null,
      "metadata": {
        "colab": {
          "base_uri": "https://localhost:8080/",
          "height": 419
        },
        "id": "-x6aRW2_jiiF",
        "outputId": "cc3eca65-efe6-4e40-af32-63d3bef8395d"
      },
      "outputs": [],
      "source": [
        "df_etp"
      ]
    },
    {
      "cell_type": "code",
      "execution_count": null,
      "metadata": {
        "id": "6J8wCvUrjiiG"
      },
      "outputs": [],
      "source": [
        "df_etp['datetime'] = df_etp['tranDate'] + ' ' + df_etp['tranHour']\n",
        "df_etp['datetime'] = pd.to_datetime(df_etp['datetime'])\n",
        "df_etp['month'] = df_etp.datetime.dt.to_period('M').astype(str)"
      ]
    },
    {
      "cell_type": "code",
      "execution_count": null,
      "metadata": {
        "colab": {
          "base_uri": "https://localhost:8080/"
        },
        "id": "EceNvVRljiiG",
        "outputId": "d4ad6888-1264-44a2-ef89-ce067ce70b7c"
      },
      "outputs": [],
      "source": [
        "df_etp.columns"
      ]
    },
    {
      "cell_type": "code",
      "execution_count": null,
      "metadata": {
        "id": "we3qjiMPjiiG"
      },
      "outputs": [],
      "source": [
        "#df_etp2 = df_etp[df_etp['datetime'] > '2022-01-01'][['datetime', 'regBidQse', 'regPrice', 'srBidQse', 'srPrice', 'supBidQse', 'supPrice']]\n",
        "df_etp2 = df_etp[df_etp['datetime'] > '2022-01-01'][['datetime', 'month', 'regPrice', 'srPrice', 'supPrice']]"
      ]
    },
    {
      "cell_type": "code",
      "execution_count": null,
      "metadata": {
        "colab": {
          "base_uri": "https://localhost:8080/",
          "height": 204
        },
        "id": "ztYXOOp0jiiH",
        "outputId": "2bdfb8d4-bf30-4bcf-da23-3a4612f4ef22"
      },
      "outputs": [],
      "source": [
        "df_etp2.head()"
      ]
    },
    {
      "cell_type": "code",
      "execution_count": null,
      "metadata": {
        "colab": {
          "base_uri": "https://localhost:8080/"
        },
        "id": "eBz_KHrfjiiH",
        "outputId": "25de3f72-fea3-4888-f2fb-3c7e5834285e"
      },
      "outputs": [],
      "source": [
        "df_etp2.regPrice"
      ]
    },
    {
      "cell_type": "code",
      "execution_count": null,
      "metadata": {
        "colab": {
          "base_uri": "https://localhost:8080/"
        },
        "id": "yR2SS3eDjiiH",
        "outputId": "542896f2-fd52-4778-feec-28435ee96e8d"
      },
      "outputs": [],
      "source": [
        "df_etp2.regPrice.describe()"
      ]
    },
    {
      "cell_type": "code",
      "execution_count": null,
      "metadata": {
        "colab": {
          "base_uri": "https://localhost:8080/"
        },
        "id": "ynChGzddjiiH",
        "outputId": "55fcd33f-41b1-4adb-8a08-1c5680fd0521"
      },
      "outputs": [],
      "source": [
        "df_etp2.info()"
      ]
    },
    {
      "cell_type": "code",
      "execution_count": null,
      "metadata": {
        "colab": {
          "base_uri": "https://localhost:8080/"
        },
        "id": "mtYkrQW0jiiI",
        "outputId": "97767abf-91de-467b-8ab4-323c07d0072f"
      },
      "outputs": [],
      "source": [
        "df_etp2.isnull().sum()"
      ]
    },
    {
      "cell_type": "code",
      "execution_count": null,
      "metadata": {
        "colab": {
          "base_uri": "https://localhost:8080/",
          "height": 80
        },
        "id": "pn0y3dsdjiiI",
        "outputId": "51461648-c9fd-45a7-96ff-8ca2398aa373"
      },
      "outputs": [],
      "source": [
        "# 缺值視沒有交易，所以不補值\n",
        "df_etp2[df_etp2.srPrice.isnull()]"
      ]
    },
    {
      "cell_type": "code",
      "execution_count": null,
      "metadata": {
        "colab": {
          "base_uri": "https://localhost:8080/",
          "height": 731
        },
        "id": "i0SVNC_5jiiI",
        "outputId": "6a1000fd-b58f-4a3c-8ea5-b42549db7875"
      },
      "outputs": [],
      "source": [
        "df_etp2.groupby(df_etp2.datetime.dt.to_period('M')).agg({'regPrice':'mean'})"
      ]
    },
    {
      "cell_type": "code",
      "execution_count": null,
      "metadata": {
        "colab": {
          "base_uri": "https://localhost:8080/",
          "height": 450
        },
        "id": "m_HgcE5NjiiI",
        "outputId": "85c6ff06-44c0-4bc3-ef4b-7a25e5e6f05f"
      },
      "outputs": [],
      "source": [
        "df_etp2.groupby([df_etp2.month, df_etp2.datetime.dt.hour]).agg({'regPrice':'mean','srPrice':'mean','supPrice':'mean'})"
      ]
    },
    {
      "cell_type": "code",
      "execution_count": null,
      "metadata": {
        "colab": {
          "base_uri": "https://localhost:8080/",
          "height": 204
        },
        "id": "OBV652m9jiiI",
        "outputId": "0044c700-477a-4213-c20c-53b2496a63df"
      },
      "outputs": [],
      "source": [
        "df_etp3 = df_etp2.groupby([df_etp2.month,df_etp2.datetime.dt.hour]).agg({'regPrice':'mean','srPrice':'mean','supPrice':'mean',}).reset_index()\n",
        "df_etp3.round().head()"
      ]
    },
    {
      "cell_type": "code",
      "execution_count": null,
      "metadata": {
        "colab": {
          "base_uri": "https://localhost:8080/",
          "height": 780
        },
        "id": "Qm59rZZFjiiJ",
        "outputId": "3191512a-98cc-4a22-d2e9-d25f3b0b54eb"
      },
      "outputs": [],
      "source": [
        "# pivot_table: 一個值，以row跟columns的方式展開\n",
        "df_etp3.pivot_table(index='month', columns='datetime', values='regPrice')"
      ]
    },
    {
      "cell_type": "code",
      "execution_count": null,
      "metadata": {
        "id": "0Q87Pwg-jiiJ"
      },
      "outputs": [],
      "source": [
        "import plotly.graph_objects as go"
      ]
    },
    {
      "cell_type": "code",
      "execution_count": null,
      "metadata": {
        "colab": {
          "base_uri": "https://localhost:8080/",
          "height": 542
        },
        "id": "gGBvCGFSjiiJ",
        "outputId": "5c9f1e60-6675-4423-9b98-870dcbd92e43"
      },
      "outputs": [],
      "source": [
        "# Create traces\n",
        "fig = go.Figure()\n",
        "\n",
        "for month in df_etp3.month.unique():\n",
        "    tmp = df_etp3[df_etp3.month == month]\n",
        "    fig.add_trace(go.Scatter(x=tmp.datetime, y=tmp.regPrice,\n",
        "                    mode='lines',\n",
        "                    name=month))\n",
        "\n",
        "fig.show()"
      ]
    },
    {
      "cell_type": "code",
      "execution_count": null,
      "metadata": {
        "colab": {
          "base_uri": "https://localhost:8080/",
          "height": 542
        },
        "id": "UmKPrHxTjiiJ",
        "outputId": "23bd1a20-fe7e-4755-d61a-9a0662342722"
      },
      "outputs": [],
      "source": [
        "import matplotlib.pyplot as plt\n",
        "\n",
        "# 創建時間順序的顏色漸變並反轉顏色比例\n",
        "unique_months = df_etp3['month'].unique()\n",
        "color_scale = plt.cm.viridis(np.linspace(0, 1, len(unique_months)))\n",
        "\n",
        "# 創建具有顏色漸變的 traces\n",
        "fig = go.Figure()\n",
        "\n",
        "for idx, month in enumerate(unique_months):\n",
        "    tmp = df_etp3[df_etp3['month'] == month]\n",
        "    color = f'rgba({color_scale[idx][0]*255},{color_scale[idx][1]*255},{color_scale[idx][2]*255},1)'\n",
        "    fig.add_trace(go.Scatter(x=tmp['datetime'], y=tmp['regPrice'],\n",
        "                             mode='lines',\n",
        "                             name=month,\n",
        "                             line=dict(color=color)))\n",
        "\n",
        "fig.update_layout(\n",
        "    title=\"調頻價格隨時間的變化\",\n",
        "    xaxis_title=\"24小時\",\n",
        "    yaxis_title=\"調頻價格\",\n",
        "    legend_title=\"月份\"\n",
        ")\n",
        "\n",
        "fig.show()\n"
      ]
    },
    {
      "cell_type": "code",
      "execution_count": null,
      "metadata": {
        "colab": {
          "base_uri": "https://localhost:8080/",
          "height": 542
        },
        "id": "pSNhy7MrjiiK",
        "outputId": "1f7573d4-e28b-46fc-c304-427c257cbf5d"
      },
      "outputs": [],
      "source": [
        "import plotly.express as px\n",
        "import pandas as pd\n",
        "\n",
        "# 假设 df_etp3 包含了你的数据\n",
        "# 可以透過类似以下的方式转换数据，以适应 Plotly Express 的格式要求\n",
        "# df = pd.DataFrame({\n",
        "#     'datetime': df_etp3['datetime'],\n",
        "#     'regPrice': df_etp3['regPrice'],\n",
        "#     'month': df_etp3['month']\n",
        "# })\n",
        "\n",
        "# 创建动画\n",
        "fig = px.line(df_etp3, x='datetime', y='regPrice', animation_frame='month',\n",
        "              title='Monthly regPrice Change', range_y=[0, 600])\n",
        "\n",
        "# 显示动画\n",
        "fig.show()\n"
      ]
    },
    {
      "cell_type": "markdown",
      "metadata": {
        "id": "HZ4aKEH5jiiK"
      },
      "source": [
        "### 我將上面的程式碼貼給Chatgpt，問他如何產生dash介面\n",
        "![image.png](attachment:image.png)"
      ]
    },
    {
      "cell_type": "code",
      "execution_count": null,
      "metadata": {
        "colab": {
          "base_uri": "https://localhost:8080/"
        },
        "id": "zboGcfuZlkHs",
        "outputId": "fe0c2a26-a64a-4612-de7b-a041e83f4dc2"
      },
      "outputs": [],
      "source": [
        "!pip install jupyter-dash -q"
      ]
    },
    {
      "cell_type": "code",
      "execution_count": null,
      "metadata": {
        "colab": {
          "base_uri": "https://localhost:8080/",
          "height": 790
        },
        "id": "_O2VI151jiiK",
        "outputId": "1789a4c7-23ab-4f41-986b-21402b894224"
      },
      "outputs": [],
      "source": [
        "from jupyter_dash import JupyterDash\n",
        "from dash import dcc, html\n",
        "from dash.dependencies import Input, Output\n",
        "import plotly.express as px\n",
        "import pandas as pd\n",
        "\n",
        "\n",
        "# 创建 Dash 应用\n",
        "# app = dash.Dash(__name__)\n",
        "app = JupyterDash(__name__)\n",
        "\n",
        "# 布局\n",
        "app.layout = html.Div([\n",
        "    dcc.Checklist(\n",
        "        id='price-selector',\n",
        "        options=[\n",
        "            {'label': 'regPrice', 'value': 'regPrice'},\n",
        "            {'label': 'suPrice', 'value': 'srPrice'},\n",
        "            {'label': 'spPrice', 'value': 'supPrice'}\n",
        "        ],\n",
        "        value=['regPrice'],  # 默认选中 'regPrice'\n",
        "    ),\n",
        "    dcc.Graph(id='price-graph')\n",
        "])\n",
        "\n",
        "# 回调函数，更新图表\n",
        "@app.callback(\n",
        "    Output('price-graph', 'figure'),\n",
        "    [Input('price-selector', 'value')]\n",
        ")\n",
        "def update_graph(selected_prices):\n",
        "    # 创建动画\n",
        "    fig = px.line(df_etp3, x='datetime', y=selected_prices, animation_frame='month',\n",
        "                  title='Monthly Price Change', range_y=[0, 600])\n",
        "    return fig\n",
        "\n",
        "# 在colab運行時，不需要指定mode，不然會跑出兩個\n",
        "app.run_server(port=8035)"
      ]
    },
    {
      "cell_type": "markdown",
      "metadata": {
        "id": "7-8GERZrjiiL"
      },
      "source": [
        "## 電力週報案例二 機組發電資料分析"
      ]
    },
    {
      "cell_type": "code",
      "execution_count": null,
      "metadata": {
        "colab": {
          "base_uri": "https://localhost:8080/",
          "height": 542
        },
        "id": "9TtAkocGjiiL",
        "outputId": "04411b5d-2985-49ef-b266-45c9845bdec5"
      },
      "outputs": [],
      "source": [
        "import plotly.graph_objs as go\n",
        "import plotly.express as px\n",
        "import pandas as pd\n",
        "\n",
        "# 定義數據\n",
        "data = {\n",
        "    'time': ['00:00', '03:00', '06:00', '09:00', '12:00', '15:00', '18:00', '21:00'],\n",
        "    '太陽能': [23.7, 23.7, 23.7, 23.7, 23.7, 23.7, 23.7, 23.7],\n",
        "    '其他再生能源': [2.1, 2.1, 2.1, 2.1, 2.1, 2.1, 2.1, 2.1],\n",
        "    '儲能': [0, 0, 0, 0, 0, 0, 0, 0],\n",
        "    '風力': [23.5, 23.5, 23.5, 23.5, 23.5, 23.5, 23.5, 23.5],\n",
        "    '水力': [20.2, 20.2, 20.2, 20.2, 20.2, 20.2, 20.2, 20.2],\n",
        "    '抽蓄': [3.6, 3.6, 3.6, 3.6, 3.6, 3.6, 3.6, 3.6],\n",
        "    '燃油': [16.2, 16.2, 16.2, 16.2, 16.2, 16.2, 16.2, 16.2],\n",
        "    '民營電廠-燃氣': [225.6, 225.6, 225.6, 225.6, 225.6, 225.6, 225.6, 225.6],\n",
        "    '燃氣': [109.5, 109.5, 109.5, 109.5, 109.5, 109.5, 109.5, 109.5],\n",
        "    '燃煤': [964.9, 964.9, 964.9, 964.9, 964.9, 964.9, 964.9, 964.9],\n",
        "    '民營電廠-燃煤': [280.0, 280.0, 280.0, 280.0, 280.0, 280.0, 280.0, 280.0],\n",
        "    '核能': [792.2, 792.2, 792.2, 792.2, 792.2, 792.2, 792.2, 792.2],\n",
        "    '燃煤': [188.0, 188.0, 188.0, 188.0, 188.0, 188.0, 188.0, 188.0]\n",
        "}\n",
        "\n",
        "# 轉換為 DataFrame\n",
        "df = pd.DataFrame(data)\n",
        "\n",
        "# 創建堆積面積圖\n",
        "fig = go.Figure()\n",
        "\n",
        "for col in df.columns[1:]:\n",
        "    fig.add_trace(go.Scatter(\n",
        "        x=df['time'],\n",
        "        y=df[col],\n",
        "        mode='lines',\n",
        "        stackgroup='one',\n",
        "        name=col\n",
        "    ))\n",
        "\n",
        "# 設置圖表標題和標籤\n",
        "fig.update_layout(\n",
        "    title='今日用電曲線圖 - 依燃料類別 (Load Curve of Today - by Fuel Type)',\n",
        "    xaxis_title='時間',\n",
        "    yaxis_title='單位: 百萬瓦',\n",
        "    yaxis=dict(type='linear'),\n",
        "    legend_title='燃料類別'\n",
        ")\n",
        "\n",
        "# 顯示圖表\n",
        "fig.show()\n"
      ]
    },
    {
      "cell_type": "code",
      "execution_count": null,
      "metadata": {
        "colab": {
          "base_uri": "https://localhost:8080/",
          "height": 542
        },
        "id": "WKZmfZ5kjiiL",
        "outputId": "b61626c3-bfdf-40be-d12f-69bd1f736a75"
      },
      "outputs": [],
      "source": [
        "import plotly.graph_objs as go\n",
        "import pandas as pd\n",
        "\n",
        "# 定義數據\n",
        "data = {\n",
        "    'time': ['00:00', '03:00', '06:00', '09:00', '12:00', '15:00', '18:00', '21:00'],\n",
        "    '太陽能': [23.7, 23.7, 23.7, 23.7, 23.7, 23.7, 23.7, 23.7],\n",
        "    '其他再生能源': [2.1, 2.1, 2.1, 2.1, 2.1, 2.1, 2.1, 2.1],\n",
        "    '儲能': [0, 0, 0, 0, 0, 0, 0, 0],\n",
        "    '風力': [23.5, 23.5, 23.5, 23.5, 23.5, 23.5, 23.5, 23.5],\n",
        "    '水力': [20.2, 20.2, 20.2, 20.2, 20.2, 20.2, 20.2, 20.2],\n",
        "    '抽蓄': [3.6, 3.6, 3.6, 3.6, 3.6, 3.6, 3.6, 3.6],\n",
        "    '燃油': [16.2, 16.2, 16.2, 16.2, 16.2, 16.2, 16.2, 16.2],\n",
        "    '民營電廠-燃氣': [225.6, 225.6, 225.6, 225.6, 225.6, 225.6, 225.6, 225.6],\n",
        "    '燃氣': [109.5, 109.5, 109.5, 109.5, 109.5, 109.5, 109.5, 109.5],\n",
        "    '燃煤': [964.9, 964.9, 964.9, 964.9, 964.9, 964.9, 964.9, 964.9],\n",
        "    '民營電廠-燃煤': [280.0, 280.0, 280.0, 280.0, 280.0, 280.0, 280.0, 280.0],\n",
        "    '核能': [792.2, 792.2, 792.2, 792.2, 792.2, 792.2, 792.2, 792.2],\n",
        "    '燃煤2': [188.0, 188.0, 188.0, 188.0, 188.0, 188.0, 188.0, 188.0]\n",
        "}\n",
        "\n",
        "# 轉換為 DataFrame\n",
        "df = pd.DataFrame(data)\n",
        "\n",
        "# 創建堆積面積圖\n",
        "fig = go.Figure()\n",
        "\n",
        "for col in df.columns[1:]:\n",
        "    fig.add_trace(go.Scatter(\n",
        "        x=df['time'],\n",
        "        y=df[col],\n",
        "        mode='lines',\n",
        "        stackgroup='one',\n",
        "        name=col,\n",
        "        hoverinfo='x+y+name'\n",
        "    ))\n",
        "\n",
        "# 設置圖表標題和標籤\n",
        "fig.update_layout(\n",
        "    title='今日用電曲線圖 - 依燃料類別 (Load Curve of Today - by Fuel Type)',\n",
        "    xaxis_title='時間',\n",
        "    yaxis_title='單位: 百萬瓦',\n",
        "    yaxis=dict(type='linear'),\n",
        "    legend_title='燃料類別',\n",
        "    hovermode='x unified'  # 統一顯示 hover 信息\n",
        ")\n",
        "\n",
        "# 顯示圖表\n",
        "fig.show()\n"
      ]
    },
    {
      "cell_type": "markdown",
      "metadata": {
        "id": "8IHMXYGpjiiL"
      },
      "source": [
        "## 電力週報案例二：頻率觸發時間分析"
      ]
    },
    {
      "cell_type": "markdown",
      "metadata": {
        "id": "01qb8a-AjiiL"
      },
      "source": [
        "### 向量化與傳統for迴圈的比較"
      ]
    },
    {
      "cell_type": "code",
      "execution_count": null,
      "metadata": {
        "colab": {
          "base_uri": "https://localhost:8080/"
        },
        "id": "Oiq8qC_LjiiM",
        "outputId": "47fa9d0d-1926-4ce2-b485-9d9a6862ab9a"
      },
      "outputs": [],
      "source": [
        "a = [1, 2, 3, 4, 5]\n",
        "b = [1, 2, 3, 4, 5]\n",
        "[x * y for x, y in zip(a, b)]\n"
      ]
    },
    {
      "cell_type": "code",
      "execution_count": null,
      "metadata": {
        "colab": {
          "base_uri": "https://localhost:8080/"
        },
        "id": "cYf_2RbEjiiM",
        "outputId": "4ce388dc-6221-482b-8962-0c405799eae1"
      },
      "outputs": [],
      "source": [
        "a = np.array([1, 2, 3, 4, 5])\n",
        "b = np.array([1, 2, 3, 4, 5])\n",
        "a * b"
      ]
    },
    {
      "cell_type": "code",
      "execution_count": null,
      "metadata": {
        "colab": {
          "base_uri": "https://localhost:8080/"
        },
        "id": "rb-TjteFjiiM",
        "outputId": "141058ec-eed3-4fb9-ef68-ee7529545cd2"
      },
      "outputs": [],
      "source": [
        "import random\n",
        "a = [random.randint(1, 10) for _ in range(1000000)]\n",
        "b = [random.randint(1, 10) for _ in range(1000000)]\n",
        "%timeit res = [x * y for x, y in zip(a, b)]"
      ]
    },
    {
      "cell_type": "code",
      "execution_count": null,
      "metadata": {
        "colab": {
          "base_uri": "https://localhost:8080/"
        },
        "id": "u7urkIf0jiiM",
        "outputId": "8e8b6bfc-6982-4d4f-eae5-f23d074d5394"
      },
      "outputs": [],
      "source": [
        "a = np.random.randint(1, 10, 1000000)\n",
        "b = np.random.randint(1, 10, 1000000)\n",
        "%timeit a * b"
      ]
    },
    {
      "cell_type": "markdown",
      "metadata": {
        "id": "ns766xw3jiiN"
      },
      "source": [
        "### 頻率分析"
      ]
    },
    {
      "cell_type": "code",
      "execution_count": null,
      "metadata": {
        "id": "Vsnb4pMjjiiN"
      },
      "outputs": [],
      "source": [
        "# Local Site only\n",
        "url = 'https://raw.githubusercontent.com/godspeed833/course_demo_files/master/tpc_freq_colab.csv'\n",
        "df_tpc = pd.read_csv(url)\n"
      ]
    },
    {
      "cell_type": "code",
      "execution_count": null,
      "metadata": {
        "id": "1jUtsCiMjiiN"
      },
      "outputs": [],
      "source": [
        "df_tpc.timestamp = pd.to_datetime(df_tpc.timestamp)"
      ]
    },
    {
      "cell_type": "code",
      "execution_count": null,
      "metadata": {
        "colab": {
          "base_uri": "https://localhost:8080/",
          "height": 419
        },
        "id": "l_5iynCkjiiN",
        "outputId": "1248b3ab-e27d-4866-cf46-ea9f221b7f24"
      },
      "outputs": [],
      "source": [
        "df_tpc"
      ]
    },
    {
      "cell_type": "code",
      "execution_count": null,
      "metadata": {
        "colab": {
          "base_uri": "https://localhost:8080/"
        },
        "id": "ef6lUkVDjiiN",
        "outputId": "862a6334-b11f-4b67-e295-d19923232b02"
      },
      "outputs": [],
      "source": [
        "df_tpc.shape"
      ]
    },
    {
      "cell_type": "code",
      "execution_count": null,
      "metadata": {
        "id": "hByQe4lxjiiO"
      },
      "outputs": [],
      "source": [
        "# def freq_sum(value):\n",
        "#     return value.count()/10627200\n",
        "# df_tpc.pivot_table('tpc', [], bin_freq, aggfunc=[freq_sum] )"
      ]
    },
    {
      "cell_type": "code",
      "execution_count": null,
      "metadata": {
        "colab": {
          "base_uri": "https://localhost:8080/",
          "height": 142
        },
        "id": "sgjveK6UjiiO",
        "outputId": "3725101d-7027-4f77-d982-7c0ce3a8f85c"
      },
      "outputs": [],
      "source": [
        "bin_freq = pd.cut(df_tpc['tpc'], [59, 59.75, 59.86, 59.98, 60, 60.02, 60.14, 60.25, 61 ])\n",
        "df_tpc.pivot_table('tpc', df_tpc.timestamp.dt.month, bin_freq, aggfunc=['count'] )\n"
      ]
    },
    {
      "cell_type": "code",
      "execution_count": null,
      "metadata": {
        "colab": {
          "base_uri": "https://localhost:8080/"
        },
        "id": "7hNt5mYgjiiP",
        "outputId": "74d48f21-7d84-44a9-8434-396708e1db2a"
      },
      "outputs": [],
      "source": [
        "pd.cut(df_tpc['tpc'], [59, 59.75, 59.86, 59.98, 60, 60.02, 60.14, 60.25, 61 ])"
      ]
    },
    {
      "cell_type": "code",
      "execution_count": null,
      "metadata": {
        "id": "6vjVjVTgjiiP"
      },
      "outputs": [],
      "source": [
        "def get_sReg_fast(freq):\n",
        "    sreg_trigger = np.where(freq <= 59.88, 1, np.nan)\n",
        "    sreg_trigger = np.where(freq >= 59.98, 0, sreg_trigger)\n",
        "    if pd.isna(sreg_trigger[0]):    # 給起始一個值\n",
        "        sreg_trigger[0] = 0\n",
        "    sreg_trigger = pd.Series(sreg_trigger).fillna(method=\"ffill\")\n",
        "\n",
        "    return(sreg_trigger)"
      ]
    },
    {
      "cell_type": "code",
      "execution_count": null,
      "metadata": {
        "id": "3g0YiD_zjiiQ"
      },
      "outputs": [],
      "source": [
        "def get_sReg(freq):\n",
        "    sreg_trigger = pd.Series([0]*len(freq))\n",
        "    flag = False\n",
        "    for i, value in enumerate(freq):\n",
        "        if value <= 59.88: #觸發條件\n",
        "            flag = True\n",
        "        elif (value >= 59.98): #結束條件\n",
        "            flag = False\n",
        "        if flag:\n",
        "            sreg_trigger[i] = 1\n",
        "\n",
        "    return(sreg_trigger)"
      ]
    },
    {
      "cell_type": "code",
      "execution_count": null,
      "metadata": {
        "id": "TdO_doHRjiiQ"
      },
      "outputs": [],
      "source": [
        "# 只比前100天的頻率資料\n",
        "df_tpc2 = df_tpc.iloc[:86400*100, :].copy()"
      ]
    },
    {
      "cell_type": "code",
      "execution_count": null,
      "metadata": {
        "id": "w_Y8NWNfjiiQ"
      },
      "outputs": [],
      "source": [
        "# 1. 加速版本\n",
        "a = get_sReg_fast(df_tpc2.tpc)"
      ]
    },
    {
      "cell_type": "code",
      "execution_count": null,
      "metadata": {
        "id": "dMSWWmG8jiiQ"
      },
      "outputs": [],
      "source": [
        "# 2. 原始版本\n",
        "b = get_sReg(df_tpc2.tpc)"
      ]
    },
    {
      "cell_type": "code",
      "execution_count": null,
      "metadata": {
        "colab": {
          "base_uri": "https://localhost:8080/"
        },
        "id": "_3GbkDqIjiiQ",
        "outputId": "d06abda7-2d62-4299-a408-04170f767711"
      },
      "outputs": [],
      "source": [
        "(a == b).sum()"
      ]
    },
    {
      "cell_type": "code",
      "execution_count": null,
      "metadata": {
        "colab": {
          "base_uri": "https://localhost:8080/"
        },
        "id": "oB9RXRe2jiiR",
        "outputId": "e2e534a8-07b7-4afa-c4c3-1dd83f739cdd"
      },
      "outputs": [],
      "source": [
        "get_sReg_fast(df_tpc2.tpc).value_counts()"
      ]
    },
    {
      "cell_type": "code",
      "execution_count": null,
      "metadata": {
        "colab": {
          "base_uri": "https://localhost:8080/"
        },
        "id": "RGMZ_6lTjiiR",
        "outputId": "82d7c5cd-1819-427b-f257-af4b2f4019e3"
      },
      "outputs": [],
      "source": [
        "get_sReg(df_tpc2.tpc).value_counts()"
      ]
    },
    {
      "cell_type": "code",
      "execution_count": null,
      "metadata": {
        "id": "wdx9oIt9jiiR"
      },
      "outputs": [],
      "source": [
        "def get_sReg_chatgpt(freq):\n",
        "    sreg_trigger = (freq <= 59.88).astype(int)\n",
        "    flag_mask = (freq >= 59.98) & sreg_trigger.astype(bool)\n",
        "    sreg_trigger[flag_mask.shift().fillna(False)] = 0\n",
        "    return sreg_trigger\n"
      ]
    },
    {
      "cell_type": "code",
      "execution_count": null,
      "metadata": {
        "colab": {
          "base_uri": "https://localhost:8080/"
        },
        "id": "pu5LFl0cjiiR",
        "outputId": "7e0b9315-b880-4fc2-c47e-a75174da93d4"
      },
      "outputs": [],
      "source": [
        "get_sReg_chatgpt(df_tpc2.tpc).value_counts()"
      ]
    },
    {
      "cell_type": "markdown",
      "metadata": {
        "id": "pvGpsqw4jiiR"
      },
      "source": [
        "### 將標記完資料，統計持續時間及執行次數"
      ]
    },
    {
      "cell_type": "code",
      "execution_count": null,
      "metadata": {
        "id": "kTs12F8MmyZ3"
      },
      "outputs": [],
      "source": [
        "!pip install pyrle -q"
      ]
    },
    {
      "cell_type": "code",
      "execution_count": null,
      "metadata": {
        "id": "vDxPk-l-jiiR"
      },
      "outputs": [],
      "source": [
        "from pyrle import Rle"
      ]
    },
    {
      "cell_type": "code",
      "execution_count": null,
      "metadata": {
        "id": "VZL9RlxXjiiR"
      },
      "outputs": [],
      "source": [
        "# 計算1連續的長度\n",
        "def gen_rle_length(series):\n",
        "    a = Rle(series)\n",
        "    sReg_sec = [x for x, y in zip(a.runs, a.values) if y == 1]\n",
        "    return sReg_sec\n",
        "\n",
        "# 產生一個array1的value的起始或結束位置的index\n",
        "def gen_endpoint_index(array1, isStart, value):\n",
        "    if isStart == True:\n",
        "        index1 = [i for i in range(len(array1)) if array1[i] == value and (i == 0 or array1[i - 1] != value)]\n",
        "    else:\n",
        "        index1 = [i for i in range(len(array1)) if array1[i] == value and (i == (len(array1)-1) or array1[i + 1] != value)]\n",
        "\n",
        "    return index1\n"
      ]
    },
    {
      "cell_type": "code",
      "execution_count": null,
      "metadata": {
        "id": "3-IapAsTjiiR"
      },
      "outputs": [],
      "source": [
        "df_tpc2['sreg_triggered'] =  get_sReg_fast(df_tpc2.tpc)"
      ]
    },
    {
      "cell_type": "code",
      "execution_count": null,
      "metadata": {
        "colab": {
          "base_uri": "https://localhost:8080/"
        },
        "id": "exn-2SmmjiiR",
        "outputId": "3d97a8ed-12b5-46b7-8983-b6c895063ed4"
      },
      "outputs": [],
      "source": [
        "df_tpc2.sreg_triggered.value_counts()"
      ]
    },
    {
      "cell_type": "code",
      "execution_count": null,
      "metadata": {
        "colab": {
          "base_uri": "https://localhost:8080/",
          "height": 204
        },
        "id": "4ZPljn7kjiiS",
        "outputId": "554ae45d-f87a-4bde-ccd3-7dead23a648d"
      },
      "outputs": [],
      "source": [
        "df_tpc2.head()"
      ]
    },
    {
      "cell_type": "code",
      "execution_count": null,
      "metadata": {
        "id": "wZiSNgq3jiiS"
      },
      "outputs": [],
      "source": [
        "sreg_len = gen_rle_length(df_tpc2.sreg_triggered)\n",
        "start_idx_lst = gen_endpoint_index(df_tpc2.sreg_triggered, True, 1.0)\n"
      ]
    },
    {
      "cell_type": "code",
      "execution_count": null,
      "metadata": {
        "id": "34DDtiatjiiS"
      },
      "outputs": [],
      "source": [
        "df_result = df_tpc2.loc[start_idx_lst].copy()\n",
        "df_result['time_len'] = sreg_len\n",
        "#df_result[['timestamp', 'time_len']]"
      ]
    },
    {
      "cell_type": "code",
      "execution_count": null,
      "metadata": {
        "colab": {
          "base_uri": "https://localhost:8080/",
          "height": 700
        },
        "id": "k2c23bpZjiiS",
        "outputId": "e954db57-a982-4566-fed3-8851cc405e08"
      },
      "outputs": [],
      "source": [
        "df_result"
      ]
    },
    {
      "cell_type": "code",
      "execution_count": null,
      "metadata": {
        "colab": {
          "base_uri": "https://localhost:8080/",
          "height": 142
        },
        "id": "4rWnYYTsjiiS",
        "outputId": "a7420a04-5eda-4c43-a97f-9f033434b04a"
      },
      "outputs": [],
      "source": [
        "df_result.groupby(df_result.timestamp.dt.to_period('W')).agg({'sreg_triggered':'count', 'time_len':'mean'}).round()"
      ]
    },
    {
      "cell_type": "code",
      "execution_count": null,
      "metadata": {
        "colab": {
          "base_uri": "https://localhost:8080/"
        },
        "id": "A9GN9oQEjiiS",
        "outputId": "92351a59-00eb-44c4-d4b1-8dea6af7d381"
      },
      "outputs": [],
      "source": [
        "df_result.info()\n"
      ]
    },
    {
      "cell_type": "code",
      "execution_count": null,
      "metadata": {
        "colab": {
          "base_uri": "https://localhost:8080/"
        },
        "id": "T1y-6C89jiiS",
        "outputId": "12beaf21-2dac-4afa-b8d3-9bdfc4212b79"
      },
      "outputs": [],
      "source": [
        "df_result.timestamp.dt.to_period('W')"
      ]
    },
    {
      "cell_type": "markdown",
      "metadata": {
        "id": "x4LkfIVBjiiS"
      },
      "source": [
        "## 電力週報案例三 用電大戶分析"
      ]
    },
    {
      "cell_type": "code",
      "execution_count": null,
      "metadata": {
        "colab": {
          "base_uri": "https://localhost:8080/",
          "height": 419
        },
        "id": "a_TosSn_jiiS",
        "outputId": "91c29281-31af-4def-b5cf-5027d93c805b"
      },
      "outputs": [],
      "source": [
        "type = 4\n",
        "# 高壓三段式\n",
        "if type == 3:\n",
        "    df_tou = pd.read_csv('https://raw.githubusercontent.com/godspeed833/course_demo_files/master/tou_price_%E9%AB%98%E5%A3%93%E4%B8%89%E6%AE%B5%E5%BC%8F_2023.csv')\n",
        "# 高壓批次生產\n",
        "elif type == 4:\n",
        "    df_tou = pd.read_csv('https://raw.githubusercontent.com/godspeed833/course_demo_files/master/tou_price_%E9%AB%98%E5%A3%93%E6%89%B9%E6%AC%A1_2023.csv')\n",
        "\n",
        "df_tou.datetime = pd.to_datetime(df_tou.datetime)\n",
        "df_tou"
      ]
    },
    {
      "cell_type": "code",
      "execution_count": null,
      "metadata": {
        "colab": {
          "base_uri": "https://localhost:8080/"
        },
        "id": "sWfN28PjjiiS",
        "outputId": "76a4ad04-5386-4146-a7f2-9b1b019b160c"
      },
      "outputs": [],
      "source": [
        "# 平均電價\n",
        "df_tou.tou.mean()"
      ]
    },
    {
      "cell_type": "code",
      "execution_count": null,
      "metadata": {
        "colab": {
          "base_uri": "https://localhost:8080/",
          "height": 419
        },
        "id": "VpeZHn1SjiiS",
        "outputId": "ea7ff731-3fdc-40fc-ae74-3cbe9201b5b3"
      },
      "outputs": [],
      "source": [
        "df_tou2 = df_tou.groupby(df_tou.datetime.dt.hour).tou_tag.value_counts().reset_index(name='count')\n",
        "df_tou2"
      ]
    },
    {
      "cell_type": "code",
      "execution_count": null,
      "metadata": {
        "id": "nHLPO2fJjiiT"
      },
      "outputs": [],
      "source": [
        "tou_price = df_tou.groupby(df_tou.datetime.dt.hour).tou.mean()"
      ]
    },
    {
      "cell_type": "code",
      "execution_count": null,
      "metadata": {
        "colab": {
          "base_uri": "https://localhost:8080/",
          "height": 542
        },
        "id": "hk0QcgJKjiiT",
        "outputId": "5178988d-eacc-44c8-aaa4-f7ad05ac4f55"
      },
      "outputs": [],
      "source": [
        "\n",
        "\n",
        "# use stack bar plot to show the distribution of tou of each hour\n",
        "fig = go.Figure()\n",
        "\n",
        "# 修正stack bar plot的次序，非夏月_離峰,非夏月_週六半尖峰, 非夏月_尖峰,夏月_離峰,夏月_半尖峰, 夏月_週六半尖峰,夏月_尖峰\n",
        "if type == 3:\n",
        "# 三段式\n",
        "    tou_tag_lst = ['非夏月_離峰', '非夏月_週六半尖峰', '非夏月_尖峰', '夏月_離峰', '夏月_週六半尖峰', '夏月_半尖峰' , '夏月_尖峰']\n",
        "elif type == 4:\n",
        "# 批次\n",
        "    tou_tag_lst = ['非夏月_離峰', '非夏月_週六半尖峰', '非夏月_尖峰', '夏月_離峰', '夏月_週六半尖峰', '夏月_尖峰']\n",
        "\n",
        "df_tou2['tou_tag'] = pd.Categorical(df_tou2['tou_tag'], categories=tou_tag_lst, ordered=True)\n",
        "\n",
        "df_tou2 = df_tou2.sort_values(by=['datetime', 'tou_tag'])\n",
        "df_tou2['tou_tag'] = df_tou2['tou_tag'].astype(str)\n",
        "\n",
        "# fig = go.Figure()\n",
        "for tou_tag in tou_tag_lst:\n",
        "    # 選擇 非夏月_離峰,非夏月_週六半尖峰, 非夏月_尖峰,夏月_離峰,夏月_半尖峰, 夏月_週六半尖峰,夏月_尖峰的顏色，\n",
        "    # 給個紅色漸層，由淺到深，夏月_尖峰最深\n",
        "\n",
        "    # 三段式\n",
        "    if type == 3:\n",
        "        if tou_tag == '非夏月_離峰':\n",
        "            color = 'rgb(255, 255, 255)'\n",
        "        elif tou_tag == '非夏月_週六半尖峰':\n",
        "            color = 'rgb(255, 214, 214)'\n",
        "        elif tou_tag == '非夏月_尖峰':\n",
        "            color = 'rgb(255, 163, 163)'\n",
        "        elif tou_tag == '夏月_離峰':\n",
        "            color = 'rgb(255, 112, 112)'\n",
        "        elif tou_tag == '夏月_週六半尖峰':\n",
        "            color = 'rgb(255, 61, 61)'\n",
        "        elif tou_tag == '夏月_半尖峰':\n",
        "            color = 'rgb(200, 0, 0)'\n",
        "        elif tou_tag == '夏月_尖峰':\n",
        "            color = 'rgb(139, 0, 0)'\n",
        "    elif type == 4:\n",
        "        # 批次\n",
        "        if tou_tag == '非夏月_離峰':\n",
        "            color = 'rgb(255, 255, 255)'\n",
        "        elif tou_tag == '非夏月_週六半尖峰':\n",
        "            color = 'rgb(255, 214, 214)'\n",
        "        elif tou_tag == '非夏月_尖峰':\n",
        "            color = 'rgb(255, 163, 163)'\n",
        "        elif tou_tag == '夏月_離峰':\n",
        "            color = 'rgb(255, 112, 112)'\n",
        "        elif tou_tag == '夏月_週六半尖峰':\n",
        "            color = 'rgb(200, 0, 0)'\n",
        "        elif tou_tag == '夏月_尖峰':\n",
        "            color = 'rgb(139, 0, 0)'\n",
        "\n",
        "    # Add a tou_price line on the plot, 使用不同的y軸\n",
        "    fig.add_trace(go.Bar(x=df_tou2[df_tou2.tou_tag == tou_tag].datetime, y=df_tou2[df_tou2.tou_tag == tou_tag]['count'], name=tou_tag, marker_color=color))\n",
        "\n",
        "# tou_price line使用亮一點的藍色跟粗一點的線\n",
        "fig.add_trace(go.Scatter( y=tou_price, name='tou_price', yaxis='y2', line=dict(color='blue', width=2)))\n",
        "# fig.add_trace(go.Scatter( y=tou_price, name='tou_price', yaxis='y2', line=dict(color='blue', width=1)))\n",
        "# lengend 的位置放在下方，只保留barplot的lengend，tou_price的lengend不顯示\n",
        "fig.update_layout(legend=dict(\n",
        "    orientation=\"h\",\n",
        "    yanchor=\"bottom\",\n",
        "    y=1.02,\n",
        "    xanchor=\"right\",\n",
        "    x=1\n",
        "))\n",
        "\n",
        "if type == 3:\n",
        "    fig.update_layout(barmode='stack', xaxis_title='Hour', yaxis_title='小時數', title='2023年的高壓三段式時間電價分佈圖')\n",
        "elif type == 4:\n",
        "    fig.update_layout(barmode='stack', xaxis_title='Hour', yaxis_title='0.5小時數', title='2023年的高壓批次生產時間電價分佈圖')\n",
        "\n",
        "\n",
        "fig.update_layout(yaxis2=dict(title='小時平均價格', overlaying='y', side='right'))\n",
        "\n",
        "\n",
        "\n",
        "fig.show()\n",
        "\n",
        "    # fig.add_trace(go.Bar(x=df_tou2[df_tou2.tou_tag == tou_tag].datetime, y=df_tou2[df_tou2.tou_tag == tou_tag]['count'], name=tou_tag, marker_color=color))\n",
        "\n",
        "\n"
      ]
    },
    {
      "cell_type": "code",
      "execution_count": null,
      "metadata": {
        "id": "Q8UeTiOAjiiT"
      },
      "outputs": [],
      "source": []
    },
    {
      "cell_type": "markdown",
      "metadata": {
        "id": "C6HJAwcFjiiT"
      },
      "source": [
        "# 到此結束，謝謝大家"
      ]
    },
    {
      "cell_type": "code",
      "execution_count": null,
      "metadata": {
        "id": "qAWEYDNJjiiT"
      },
      "outputs": [],
      "source": []
    },
    {
      "cell_type": "code",
      "execution_count": null,
      "metadata": {
        "id": "fxjhYZknjiiT"
      },
      "outputs": [],
      "source": []
    }
  ],
  "metadata": {
    "colab": {
      "provenance": []
    },
    "kernelspec": {
      "display_name": "py10",
      "language": "python",
      "name": ".venv"
    },
    "language_info": {
      "codemirror_mode": {
        "name": "ipython",
        "version": 3
      },
      "file_extension": ".py",
      "mimetype": "text/x-python",
      "name": "python",
      "nbconvert_exporter": "python",
      "pygments_lexer": "ipython3",
      "version": "3.9.18"
    }
  },
  "nbformat": 4,
  "nbformat_minor": 0
}
